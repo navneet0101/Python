{
 "cells": [
  {
   "cell_type": "code",
   "execution_count": 1,
   "metadata": {},
   "outputs": [],
   "source": [
    "import json #json is a file format\n",
    "data=json.load(open(\"data.json\")) #loading a data"
   ]
  },
  {
   "cell_type": "code",
   "execution_count": null,
   "metadata": {},
   "outputs": [],
   "source": [
    "def translate(word):\n",
    "    return data[word]\n",
    "#here the word give the output by dictionary\n",
    "word=input(\"Enter Word: \")\n",
    "print (translate(word))"
   ]
  },
  {
   "cell_type": "code",
   "execution_count": null,
   "metadata": {},
   "outputs": [],
   "source": [
    "#counting of non-existing word\n",
    "def translate(w):\n",
    "    if w in data:\n",
    "       return data[w]\n",
    "    else:\n",
    "       print(\"Data Does't Exist.\")\n",
    "word=input(\"Enter Word: \")\n",
    "print(translate(word))"
   ]
  },
  {
   "cell_type": "code",
   "execution_count": null,
   "metadata": {},
   "outputs": [],
   "source": [
    "#making a program case Insensetive\n",
    "\"\"\"dir(str) this is a method that can apply to a string\"\"\"\n",
    "def translate(w):\n",
    "    w=w.lower()\n",
    "    if w in data:\n",
    "       return data[w]\n",
    "    else:\n",
    "       print(\"Data Does't Exist.\")\n",
    "word=input(\"Enter Word: \")\n",
    "print(translate(word))"
   ]
  },
  {
   "cell_type": "code",
   "execution_count": null,
   "metadata": {},
   "outputs": [],
   "source": [
    "#making similarity between two strings\n",
    "\"\"\"1.go on the python library on google and see \n",
    "     all the library in the python\n",
    "   2.help() - for know the description\n",
    "   3.data.keys() - for know the keys in data\"\"\"\n",
    "#import difflib\n",
    "from difflib import get_close_matches\n",
    "def translate(w):\n",
    "    w=w.lower()\n",
    "    if w in data:\n",
    "        return data[w]\n",
    "    elif len(get_close_matches(w,data.keys()))>0:\n",
    "        yn = input(\"Did you mean %s instead? Press Y if yes, N if no\" % get_close_matches(w,data.keys())[0])\n",
    "        if yn==\"y\":\n",
    "            return data[get_close_matches(w,data.keys())[0]]\n",
    "        elif yn==\"N\":\n",
    "            print(\"Its Ok\")\n",
    "        else:\n",
    "            print(\"We didn't understand your entry\")\n",
    "    else:\n",
    "        return \"The word does't exist. Please double check it.\"\n",
    "words=input(\"Enter Word: \")\n",
    "print(translate(words))\n"
   ]
  },
  {
   "cell_type": "code",
   "execution_count": null,
   "metadata": {},
   "outputs": [],
   "source": []
  },
  {
   "cell_type": "code",
   "execution_count": null,
   "metadata": {},
   "outputs": [],
   "source": []
  },
  {
   "cell_type": "code",
   "execution_count": null,
   "metadata": {},
   "outputs": [],
   "source": []
  },
  {
   "cell_type": "code",
   "execution_count": null,
   "metadata": {},
   "outputs": [],
   "source": []
  },
  {
   "cell_type": "code",
   "execution_count": null,
   "metadata": {},
   "outputs": [],
   "source": []
  },
  {
   "cell_type": "code",
   "execution_count": null,
   "metadata": {},
   "outputs": [],
   "source": []
  },
  {
   "cell_type": "code",
   "execution_count": null,
   "metadata": {},
   "outputs": [],
   "source": []
  }
 ],
 "metadata": {
  "kernelspec": {
   "display_name": "Python 3",
   "language": "python",
   "name": "python3"
  },
  "language_info": {
   "codemirror_mode": {
    "name": "ipython",
    "version": 3
   },
   "file_extension": ".py",
   "mimetype": "text/x-python",
   "name": "python",
   "nbconvert_exporter": "python",
   "pygments_lexer": "ipython3",
   "version": "3.7.3"
  }
 },
 "nbformat": 4,
 "nbformat_minor": 2
}
