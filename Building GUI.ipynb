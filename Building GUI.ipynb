{
 "cells": [
  {
   "cell_type": "markdown",
   "metadata": {},
   "source": [
    "# GUI with Widgets"
   ]
  },
  {
   "cell_type": "code",
   "execution_count": 3,
   "metadata": {},
   "outputs": [],
   "source": [
    "import tkinter\n",
    "from tkinter import *"
   ]
  },
  {
   "cell_type": "code",
   "execution_count": 2,
   "metadata": {},
   "outputs": [],
   "source": [
    "#add a button into it\n",
    "window=Tk()\n",
    "b1=Button(window,text=\"Okay\")\n",
    "b1.pack()\n",
    "window.mainloop()"
   ]
  },
  {
   "cell_type": "code",
   "execution_count": 3,
   "metadata": {},
   "outputs": [],
   "source": [
    "#by the help of grid we costumize the size of row and column\n",
    "window=Tk()\n",
    "b1=Button(window,text=\"Okay\")\n",
    "b1.grid(row=0,column=0,rowspan=2)\n",
    "window.mainloop()"
   ]
  },
  {
   "cell_type": "code",
   "execution_count": 4,
   "metadata": {},
   "outputs": [],
   "source": [
    "#add entery widgets\n",
    "window=Tk()\n",
    "b1=Button(window,text=\"Okay\")\n",
    "b1.grid(row=0,column=0)\n",
    "\n",
    "e1=Entry(window)\n",
    "e1.grid(row=0,column=1)\n",
    "\n",
    "window.mainloop()"
   ]
  },
  {
   "cell_type": "code",
   "execution_count": 8,
   "metadata": {},
   "outputs": [],
   "source": [
    "#add a text wedgets\n",
    "window=Tk()\n",
    "b1=Button(window,text=\"Okay\")\n",
    "b1.grid(row=0,column=0)\n",
    "\n",
    "e1=Entry(window)\n",
    "e1.grid(row=0,column=1)\n",
    "\n",
    "t1=Text(window)\n",
    "t1.grid(row=0,column=2)\n",
    "\n",
    "window.mainloop()"
   ]
  },
  {
   "cell_type": "code",
   "execution_count": 6,
   "metadata": {},
   "outputs": [],
   "source": [
    "#adding hight and width of text wedgets\n",
    "window=Tk()\n",
    "b1=Button(window,text=\"Okay\")\n",
    "b1.grid(row=0,column=0)\n",
    "\n",
    "e1=Entry(window)\n",
    "e1.grid(row=0,column=1)\n",
    "\n",
    "t1=Text(window,height=1,width=20)\n",
    "t1.grid(row=0,column=2)\n",
    "\n",
    "window.mainloop()"
   ]
  },
  {
   "cell_type": "code",
   "execution_count": 7,
   "metadata": {},
   "outputs": [],
   "source": [
    "#after exicution of first then automatically go cursor on next tab\n",
    " \n",
    "window=Tk()\n",
    "\n",
    "def km_to_miles():\n",
    "    print(\"Sucess!\")\n",
    "    \n",
    "b1=Button(window,text=\"Exicute\",command=km_to_miles)\n",
    "b1.grid(row=0,column=0)\n",
    "\n",
    "e1=Entry(window)\n",
    "e1.grid(row=0,column=1)\n",
    "\n",
    "t1=Text(window,height=1,width=20)\n",
    "t1.grid(row=0,column=2)\n",
    "\n",
    "window.mainloop()"
   ]
  },
  {
   "cell_type": "code",
   "execution_count": 9,
   "metadata": {},
   "outputs": [
    {
     "name": "stdout",
     "output_type": "stream",
     "text": [
      "10\n",
      "50\n",
      "50\n"
     ]
    }
   ],
   "source": [
    "#prog to convert km into miles\n",
    "window=Tk()\n",
    "\n",
    "def km_to_miles():\n",
    "    print(e1_value.get())\n",
    "    miles=float(e1_value.get())*1.6\n",
    "    t1.insert(END,miles)\n",
    "    \n",
    "b1=Button(window,text=\"Exicute\",command=km_to_miles)\n",
    "b1.grid(row=0,column=0)\n",
    "\n",
    "e1_value=StringVar()\n",
    "e1=Entry(window,textvariable=e1_value)\n",
    "e1.grid(row=0,column=1)\n",
    "\n",
    "t1=Text(window,height=1,width=20)\n",
    "t1.grid(row=0,column=2)\n",
    "\n",
    "window.mainloop()"
   ]
  },
  {
   "cell_type": "code",
   "execution_count": null,
   "metadata": {},
   "outputs": [],
   "source": []
  }
 ],
 "metadata": {
  "kernelspec": {
   "display_name": "Python 3",
   "language": "python",
   "name": "python3"
  },
  "language_info": {
   "codemirror_mode": {
    "name": "ipython",
    "version": 3
   },
   "file_extension": ".py",
   "mimetype": "text/x-python",
   "name": "python",
   "nbconvert_exporter": "python",
   "pygments_lexer": "ipython3",
   "version": "3.7.3"
  }
 },
 "nbformat": 4,
 "nbformat_minor": 2
}
